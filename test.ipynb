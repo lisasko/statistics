{
 "cells": [
  {
   "cell_type": "code",
   "execution_count": 1,
   "id": "8b7c581a",
   "metadata": {},
   "outputs": [],
   "source": [
    "from IPython.display import HTML, display\n",
    "\n",
    "def cadre(message, couleur=\"blue\"):\n",
    "    \"\"\"Affiche un cadre coloré dans le notebook.\"\"\"\n",
    "    \n",
    "    couleurs = {\n",
    "        \"blue\":  {\"border\": \"#2196F3\", \"background\": \"#E3F2FD\"},\n",
    "        \"orange\": {\"border\": \"#FF9800\", \"background\": \"#FFF3E0\"},\n",
    "        \"green\": {\"border\": \"#4CAF50\", \"background\": \"#E8F5E9\"},\n",
    "        \"red\": {\"border\": \"#F44336\", \"background\": \"#FFEBEE\"},\n",
    "        \"gray\": {\"border\": \"#9E9E9E\", \"background\": \"#F5F5F5\"},\n",
    "    }\n",
    "    \n",
    "    if couleur not in couleurs:\n",
    "        couleur = \"blue\"  # défaut\n",
    "    \n",
    "    style = f\"\"\"\n",
    "    <div style=\"border: 2px solid {couleurs[couleur]['border']};\n",
    "                padding: 10px; \n",
    "                border-radius: 8px; \n",
    "                background-color: {couleurs[couleur]['background']};\n",
    "                margin: 10px 0;\">\n",
    "        {message}\n",
    "    </div>\n",
    "    \"\"\"\n",
    "    display(HTML(style))\n"
   ]
  },
  {
   "cell_type": "code",
   "execution_count": 3,
   "id": "9fd42e39",
   "metadata": {},
   "outputs": [
    {
     "data": {
      "text/html": [
       "\n",
       "    <div style=\"border: 2px solid #2196F3;\n",
       "                padding: 10px; \n",
       "                border-radius: 8px; \n",
       "                background-color: #E3F2FD;\n",
       "                margin: 10px 0;\">\n",
       "        blalblalblalala\n",
       "    </div>\n",
       "    "
      ],
      "text/plain": [
       "<IPython.core.display.HTML object>"
      ]
     },
     "metadata": {},
     "output_type": "display_data"
    }
   ],
   "source": [
    "cadre(\"blalblalblalala\", \"blue\")"
   ]
  }
 ],
 "metadata": {
  "kernelspec": {
   "display_name": "myenv",
   "language": "python",
   "name": "python3"
  },
  "language_info": {
   "codemirror_mode": {
    "name": "ipython",
    "version": 3
   },
   "file_extension": ".py",
   "mimetype": "text/x-python",
   "name": "python",
   "nbconvert_exporter": "python",
   "pygments_lexer": "ipython3",
   "version": "3.12.11"
  }
 },
 "nbformat": 4,
 "nbformat_minor": 5
}
