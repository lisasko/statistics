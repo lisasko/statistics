{
 "cells": [
  {
   "cell_type": "markdown",
   "id": "dd560ada",
   "metadata": {},
   "source": [
    "# TP 2.2 : Estimation"
   ]
  },
  {
   "cell_type": "markdown",
   "id": "20c928e4",
   "metadata": {},
   "source": [
    "## 1. Loi de Pareto\n",
    "\n",
    "On considère dans cette partie une variable aléatoire suivant une loi de Pareto d'indice $\\alpha$. C'est-à-dire $X\\sim \\mathcal{P}(\\alpha)$ si \n",
    "$$\n",
    "\\mathbb{P}(X>t)=x^{-\\alpha},\\quad t>1.\n",
    "$$\n",
    "On supposera, si besoin, que le parametre $\\alpha>2$ pour s'assurer que l'espérance et la variance de $X$ soit bien définie.\n",
    "\n",
    "Si $Z$ est une variable aléatoire de fonction de répartition $F$ alors si $U\\sim \\mathcal{U}([0,1])$, la variable $F^{-1}(U)$ suit la même loi que $Z$.\n"
   ]
  },
  {
   "cell_type": "markdown",
   "id": "2a4f7ed1",
   "metadata": {},
   "source": [
    "<div class=\"alert alert-block alert-success\">\n",
    "    En utilisant le fait suivant :\n",
    "Si $Z$ est une variable aléatoire de fonction de répartition $F$ alors si $U\\sim \\mathcal{U}([0,1])$, la variable $F^{-1}(U)$ suit la même loi que $Z$.\n",
    "\n",
    "Construire un vecteur de taille 100 contenant des réalisations d'une variable aléatoire suivant une loi $\\mathcal{P}(3)$.\n",
    "    \n",
    "</div>"
   ]
  },
  {
   "cell_type": "code",
   "execution_count": 3,
   "id": "6bc45bb2",
   "metadata": {
    "vscode": {
     "languageId": "r"
    }
   },
   "outputs": [
    {
     "data": {
      "text/html": [
       "<style>\n",
       ".list-inline {list-style: none; margin:0; padding: 0}\n",
       ".list-inline>li {display: inline-block}\n",
       ".list-inline>li:not(:last-child)::after {content: \"\\00b7\"; padding: 0 .5ex}\n",
       "</style>\n",
       "<ol class=list-inline><li>1.1605259238276</li><li>1.2790894013138</li><li>1.13662929979889</li><li>1.14915497999283</li><li>2.57795191925132</li><li>1.03031882177568</li><li>1.02962483023472</li><li>1.00737589848128</li><li>1.82346815879609</li><li>1.44501262599636</li><li>2.02263777472153</li><li>1.35558884850886</li><li>2.53745614970828</li><li>1.75154833869308</li><li>1.18544077476252</li><li>1.82565070177882</li><li>1.27893621002899</li><li>1.5666698564401</li><li>1.04872155033757</li><li>3.57251461601859</li><li>1.45123228302296</li><li>1.2933351803494</li><li>1.12330932486213</li><li>1.84621023879411</li><li>6.61265062731302</li><li>1.0622593427313</li><li>1.30781405720915</li><li>1.05656779598918</li><li>1.42305616711663</li><li>1.13898856965993</li><li>5.0790940150844</li><li>1.33142889829097</li><li>2.76275806300697</li><li>1.17354901313495</li><li>1.39945512853905</li><li>2.61721638576078</li><li>1.59293386077328</li><li>1.74661375267911</li><li>1.28277981420037</li><li>1.10890340502729</li><li>1.3602172891536</li><li>1.03413895759117</li><li>1.89767323196919</li><li>1.2769695435933</li><li>1.08459858136459</li><li>1.20640245989386</li><li>1.66134768845515</li><li>1.22880662034111</li><li>5.05708117114088</li><li>1.12541606439142</li><li>1.0052051249817</li><li>1.76373891029246</li><li>1.1857357370383</li><li>2.48442385219894</li><li>1.50050720508654</li><li>2.61444780231475</li><li>1.06456328104244</li><li>1.46632865454357</li><li>1.25303570779304</li><li>4.8175808219725</li><li>1.31943481559015</li><li>1.00888252773306</li><li>1.89539669558402</li><li>1.07482177605596</li><li>1.08507598386824</li><li>1.40040584677349</li><li>1.51936879071485</li><li>4.63946521197686</li><li>1.49733400314906</li><li>3.87655693384761</li><li>1.10837782815156</li><li>4.3019364349596</li><li>1.21814073546834</li><li>1.02908447629536</li><li>1.09145226716878</li><li>6.95453595756472</li><li>1.40878202326939</li><li>1.02435351763621</li><li>3.37967950801267</li><li>1.23784859777465</li><li>1.21652676427298</li><li>1.08011013375433</li><li>2.31629933765694</li><li>1.31303585619461</li><li>1.02925127114747</li><li>1.13957544052496</li><li>1.07814144787019</li><li>1.00795745943208</li><li>1.15310161343422</li><li>1.46047007746239</li><li>3.37898890010539</li><li>1.65084674028892</li><li>1.25335968108345</li><li>1.60373500788161</li><li>1.79586989295324</li><li>1.38670568000835</li><li>4.69737039318583</li><li>1.18874822669857</li><li>1.0905102054378</li><li>1.09060678009002</li></ol>\n"
      ],
      "text/latex": [
       "\\begin{enumerate*}\n",
       "\\item 1.1605259238276\n",
       "\\item 1.2790894013138\n",
       "\\item 1.13662929979889\n",
       "\\item 1.14915497999283\n",
       "\\item 2.57795191925132\n",
       "\\item 1.03031882177568\n",
       "\\item 1.02962483023472\n",
       "\\item 1.00737589848128\n",
       "\\item 1.82346815879609\n",
       "\\item 1.44501262599636\n",
       "\\item 2.02263777472153\n",
       "\\item 1.35558884850886\n",
       "\\item 2.53745614970828\n",
       "\\item 1.75154833869308\n",
       "\\item 1.18544077476252\n",
       "\\item 1.82565070177882\n",
       "\\item 1.27893621002899\n",
       "\\item 1.5666698564401\n",
       "\\item 1.04872155033757\n",
       "\\item 3.57251461601859\n",
       "\\item 1.45123228302296\n",
       "\\item 1.2933351803494\n",
       "\\item 1.12330932486213\n",
       "\\item 1.84621023879411\n",
       "\\item 6.61265062731302\n",
       "\\item 1.0622593427313\n",
       "\\item 1.30781405720915\n",
       "\\item 1.05656779598918\n",
       "\\item 1.42305616711663\n",
       "\\item 1.13898856965993\n",
       "\\item 5.0790940150844\n",
       "\\item 1.33142889829097\n",
       "\\item 2.76275806300697\n",
       "\\item 1.17354901313495\n",
       "\\item 1.39945512853905\n",
       "\\item 2.61721638576078\n",
       "\\item 1.59293386077328\n",
       "\\item 1.74661375267911\n",
       "\\item 1.28277981420037\n",
       "\\item 1.10890340502729\n",
       "\\item 1.3602172891536\n",
       "\\item 1.03413895759117\n",
       "\\item 1.89767323196919\n",
       "\\item 1.2769695435933\n",
       "\\item 1.08459858136459\n",
       "\\item 1.20640245989386\n",
       "\\item 1.66134768845515\n",
       "\\item 1.22880662034111\n",
       "\\item 5.05708117114088\n",
       "\\item 1.12541606439142\n",
       "\\item 1.0052051249817\n",
       "\\item 1.76373891029246\n",
       "\\item 1.1857357370383\n",
       "\\item 2.48442385219894\n",
       "\\item 1.50050720508654\n",
       "\\item 2.61444780231475\n",
       "\\item 1.06456328104244\n",
       "\\item 1.46632865454357\n",
       "\\item 1.25303570779304\n",
       "\\item 4.8175808219725\n",
       "\\item 1.31943481559015\n",
       "\\item 1.00888252773306\n",
       "\\item 1.89539669558402\n",
       "\\item 1.07482177605596\n",
       "\\item 1.08507598386824\n",
       "\\item 1.40040584677349\n",
       "\\item 1.51936879071485\n",
       "\\item 4.63946521197686\n",
       "\\item 1.49733400314906\n",
       "\\item 3.87655693384761\n",
       "\\item 1.10837782815156\n",
       "\\item 4.3019364349596\n",
       "\\item 1.21814073546834\n",
       "\\item 1.02908447629536\n",
       "\\item 1.09145226716878\n",
       "\\item 6.95453595756472\n",
       "\\item 1.40878202326939\n",
       "\\item 1.02435351763621\n",
       "\\item 3.37967950801267\n",
       "\\item 1.23784859777465\n",
       "\\item 1.21652676427298\n",
       "\\item 1.08011013375433\n",
       "\\item 2.31629933765694\n",
       "\\item 1.31303585619461\n",
       "\\item 1.02925127114747\n",
       "\\item 1.13957544052496\n",
       "\\item 1.07814144787019\n",
       "\\item 1.00795745943208\n",
       "\\item 1.15310161343422\n",
       "\\item 1.46047007746239\n",
       "\\item 3.37898890010539\n",
       "\\item 1.65084674028892\n",
       "\\item 1.25335968108345\n",
       "\\item 1.60373500788161\n",
       "\\item 1.79586989295324\n",
       "\\item 1.38670568000835\n",
       "\\item 4.69737039318583\n",
       "\\item 1.18874822669857\n",
       "\\item 1.0905102054378\n",
       "\\item 1.09060678009002\n",
       "\\end{enumerate*}\n"
      ],
      "text/markdown": [
       "1. 1.1605259238276\n",
       "2. 1.2790894013138\n",
       "3. 1.13662929979889\n",
       "4. 1.14915497999283\n",
       "5. 2.57795191925132\n",
       "6. 1.03031882177568\n",
       "7. 1.02962483023472\n",
       "8. 1.00737589848128\n",
       "9. 1.82346815879609\n",
       "10. 1.44501262599636\n",
       "11. 2.02263777472153\n",
       "12. 1.35558884850886\n",
       "13. 2.53745614970828\n",
       "14. 1.75154833869308\n",
       "15. 1.18544077476252\n",
       "16. 1.82565070177882\n",
       "17. 1.27893621002899\n",
       "18. 1.5666698564401\n",
       "19. 1.04872155033757\n",
       "20. 3.57251461601859\n",
       "21. 1.45123228302296\n",
       "22. 1.2933351803494\n",
       "23. 1.12330932486213\n",
       "24. 1.84621023879411\n",
       "25. 6.61265062731302\n",
       "26. 1.0622593427313\n",
       "27. 1.30781405720915\n",
       "28. 1.05656779598918\n",
       "29. 1.42305616711663\n",
       "30. 1.13898856965993\n",
       "31. 5.0790940150844\n",
       "32. 1.33142889829097\n",
       "33. 2.76275806300697\n",
       "34. 1.17354901313495\n",
       "35. 1.39945512853905\n",
       "36. 2.61721638576078\n",
       "37. 1.59293386077328\n",
       "38. 1.74661375267911\n",
       "39. 1.28277981420037\n",
       "40. 1.10890340502729\n",
       "41. 1.3602172891536\n",
       "42. 1.03413895759117\n",
       "43. 1.89767323196919\n",
       "44. 1.2769695435933\n",
       "45. 1.08459858136459\n",
       "46. 1.20640245989386\n",
       "47. 1.66134768845515\n",
       "48. 1.22880662034111\n",
       "49. 5.05708117114088\n",
       "50. 1.12541606439142\n",
       "51. 1.0052051249817\n",
       "52. 1.76373891029246\n",
       "53. 1.1857357370383\n",
       "54. 2.48442385219894\n",
       "55. 1.50050720508654\n",
       "56. 2.61444780231475\n",
       "57. 1.06456328104244\n",
       "58. 1.46632865454357\n",
       "59. 1.25303570779304\n",
       "60. 4.8175808219725\n",
       "61. 1.31943481559015\n",
       "62. 1.00888252773306\n",
       "63. 1.89539669558402\n",
       "64. 1.07482177605596\n",
       "65. 1.08507598386824\n",
       "66. 1.40040584677349\n",
       "67. 1.51936879071485\n",
       "68. 4.63946521197686\n",
       "69. 1.49733400314906\n",
       "70. 3.87655693384761\n",
       "71. 1.10837782815156\n",
       "72. 4.3019364349596\n",
       "73. 1.21814073546834\n",
       "74. 1.02908447629536\n",
       "75. 1.09145226716878\n",
       "76. 6.95453595756472\n",
       "77. 1.40878202326939\n",
       "78. 1.02435351763621\n",
       "79. 3.37967950801267\n",
       "80. 1.23784859777465\n",
       "81. 1.21652676427298\n",
       "82. 1.08011013375433\n",
       "83. 2.31629933765694\n",
       "84. 1.31303585619461\n",
       "85. 1.02925127114747\n",
       "86. 1.13957544052496\n",
       "87. 1.07814144787019\n",
       "88. 1.00795745943208\n",
       "89. 1.15310161343422\n",
       "90. 1.46047007746239\n",
       "91. 3.37898890010539\n",
       "92. 1.65084674028892\n",
       "93. 1.25335968108345\n",
       "94. 1.60373500788161\n",
       "95. 1.79586989295324\n",
       "96. 1.38670568000835\n",
       "97. 4.69737039318583\n",
       "98. 1.18874822669857\n",
       "99. 1.0905102054378\n",
       "100. 1.09060678009002\n",
       "\n",
       "\n"
      ],
      "text/plain": [
       "  [1] 1.160526 1.279089 1.136629 1.149155 2.577952 1.030319 1.029625 1.007376\n",
       "  [9] 1.823468 1.445013 2.022638 1.355589 2.537456 1.751548 1.185441 1.825651\n",
       " [17] 1.278936 1.566670 1.048722 3.572515 1.451232 1.293335 1.123309 1.846210\n",
       " [25] 6.612651 1.062259 1.307814 1.056568 1.423056 1.138989 5.079094 1.331429\n",
       " [33] 2.762758 1.173549 1.399455 2.617216 1.592934 1.746614 1.282780 1.108903\n",
       " [41] 1.360217 1.034139 1.897673 1.276970 1.084599 1.206402 1.661348 1.228807\n",
       " [49] 5.057081 1.125416 1.005205 1.763739 1.185736 2.484424 1.500507 2.614448\n",
       " [57] 1.064563 1.466329 1.253036 4.817581 1.319435 1.008883 1.895397 1.074822\n",
       " [65] 1.085076 1.400406 1.519369 4.639465 1.497334 3.876557 1.108378 4.301936\n",
       " [73] 1.218141 1.029084 1.091452 6.954536 1.408782 1.024354 3.379680 1.237849\n",
       " [81] 1.216527 1.080110 2.316299 1.313036 1.029251 1.139575 1.078141 1.007957\n",
       " [89] 1.153102 1.460470 3.378989 1.650847 1.253360 1.603735 1.795870 1.386706\n",
       " [97] 4.697370 1.188748 1.090510 1.090607"
      ]
     },
     "metadata": {},
     "output_type": "display_data"
    }
   ],
   "source": [
    "## A FAIRE\n",
    "#1\n",
    "alpha <- 3\n",
    "vecteur_x <- runif(100)\n",
    "vecteur_carre_10 <- (1 - vecteur_x)^(- 1 / alpha)\n",
    "vecteur_carre_10"
   ]
  },
  {
   "cell_type": "markdown",
   "id": "deccc0a1",
   "metadata": {},
   "source": [
    "##  2. Estimation\n",
    "\n",
    "Dans cette partie on souhaite comparer les estimateurs par la méthodes des moments et du maximum de vraisemblance du parametre $\\alpha$.\n",
    "<div class=\"alert alert-block alert-success\">\n",
    "    Utilisez la cellule suivante pour répondre aux questions :\n",
    "    <ol>\n",
    "        <li> Calculer (à la main) l'estimateur par la méthode des moments de $\\alpha$.</li>\n",
    "        <li> Discuter en quelque mots si cet estimateur est fortement consistent ? Asymptotiquement normal ? </li>\n",
    "        <li> Illustrer numériquement la consistence de l'estimateur des moments. </li>\n",
    "        <li> Illustrer, en vous inspirant de la première partie du TP 2.1 numériquement, la normalité asymptotique de l'estimateur des moments.</li>\n",
    "    </ol>\n",
    "</div>"
   ]
  },
  {
   "cell_type": "code",
   "execution_count": null,
   "id": "077a0cba",
   "metadata": {
    "vscode": {
     "languageId": "r"
    }
   },
   "outputs": [],
   "source": [
    "#A FAIRE\n"
   ]
  },
  {
   "cell_type": "markdown",
   "id": "7e109cec",
   "metadata": {},
   "source": [
    "<div class=\"alert alert-block alert-success\">\n",
    "    Utilisez la cellule suivante pour répondre aux questions :\n",
    "    <ol>\n",
    "        <li> Calculer (à la main) l'estimateur du maximum de vraisemblance de $\\alpha$.</li>\n",
    "        <li> Illustrer numériquement la consistence de l'estimateur des moments. </li>\n",
    "        <li> Illustrer, en vous inspirant de la première partie du TP 2.1, numériquement la normalité asymptotique de l'estimateur des moments.</li>\n",
    "    </ol>\n",
    "</div>"
   ]
  },
  {
   "cell_type": "code",
   "execution_count": null,
   "id": "f936caf6",
   "metadata": {
    "vscode": {
     "languageId": "r"
    }
   },
   "outputs": [],
   "source": [
    "#A FAIRE"
   ]
  },
  {
   "cell_type": "markdown",
   "id": "0b15056d",
   "metadata": {},
   "source": [
    "<div class=\"alert alert-block alert-success\">\n",
    "    Utilisez la cellule suivante pour répondre aux questions :\n",
    "    <ol>\n",
    "        <li> En vous inspirant de la première partie du TP 2.1, calculer la variance de chaqun des deux estimateurs.</li>\n",
    "        <li> L'un vous semble-t-il plus performent ? Est-ce surprenant ?  </li>\n",
    "    </ol>\n",
    "</div>"
   ]
  },
  {
   "cell_type": "code",
   "execution_count": null,
   "id": "1bfa826f",
   "metadata": {
    "vscode": {
     "languageId": "r"
    }
   },
   "outputs": [],
   "source": [
    "#A FAIRE"
   ]
  },
  {
   "cell_type": "markdown",
   "id": "e95d0c76",
   "metadata": {},
   "source": [
    "## 3. Pour aller plus loin : le bootstrap.\n",
    "\n",
    "Maintenant, contrairement à la première partie du TP 2.1, nous supposerons avoir uniquement un vecteur de 100 réalisation de notre loi de Pareto et qu'il nous est IMPOSSIBLE d'en tirer ou simuler d'avantage.\n",
    "\n",
    "Pour criconvenir a ce désagrément B. Efron propose en 1979 la méthode suivante :\n",
    "\n",
    "Soit $X_1,\\dots,X_n$ notre échantillon. On va alors tirer dans cet échantillon pour construire un echantillon bootstrap.\n",
    "Formellement on tirer $u(1),\\dots,u(n)$ $n$ variables aléatoires i.i.d uniforme sur {$1,\\dots,n$} (donc discrète). Léchantillon bootstrap est alors $X_{u(1)},\\dots,X_{u(n)}$.\n",
    "\n",
    "Attention : ce n'est pas un mélange des $(X_i)$, en effet le même $X_{i_0}$ peut apparaitre plusieur fois dans l'échantillon bootstrap.\n",
    "\n",
    "Pour $B\\in \\mathbb{N}$ on peut répéter cette opétation $B$ fois et ainsi obtenir $B$ échantillons noté $X_{1}^b,\\dots,X_{n}^b$ pour $b$ allant de $1$ à $B$. Sur chaque échantillon on peut alors construire un estimateur de $\\alpha$ et ainsi obtenir $\\hat \\alpha_n^1,\\dot,\\hat \\alpha_n^B$, $B$ estimateur bootstrap.\n",
    "\n",
    "Sous certaine condition, en particulier si $\\sqrt{n}(\\hat \\alpha_n-\\alpha)\\underset{n\\rightarrow\\infty}{\\longrightarrow}\\mathcal{N}(0,\\sigma^2)$, on a \n",
    "$$\n",
    "\\sqrt{B}\\left(\\frac{1}{B}\\sum_{b=1}^B\\hat \\alpha_n^b-\\alpha_n\\right)\\underset{n\\rightarrow\\infty}{\\longrightarrow}\\mathcal{N}(0,\\sigma^2).\n",
    "$$\n",
    "\n",
    "<div class=\"alert alert-block alert-success\">\n",
    "    Utilisez la cellule suivante pour répondre aux questions :\n",
    "    <ol>\n",
    "        <li> Mettre en place une procédure bootsrap pour l'estimateur du maximum de vraisemblance. Vous pourrez vous aider de la fonction <code>sample()<code>. </li>\n",
    "        <li> Vérifier numériquement que la moyenne des estimateur bootstrap vérifie bien la propriété ci dessus. </li>\n",
    "    </ol>\n",
    "</div>"
   ]
  },
  {
   "cell_type": "code",
   "execution_count": null,
   "id": "6add6270",
   "metadata": {
    "vscode": {
     "languageId": "r"
    }
   },
   "outputs": [],
   "source": [
    "#A FAIRE"
   ]
  },
  {
   "cell_type": "markdown",
   "id": "d1c7d208",
   "metadata": {},
   "source": [
    "<div class=\"alert alert-block alert-success\">\n",
    "    Utilisez la cellule suivante pour répondre aux questions : Les questions 2 et 3 concernent les tests que nous verrons demain, vous pourrez donc y revenir à ce moment la.\n",
    "    <ol>\n",
    "        <li> Se servir de cette méthode pour estimer la variance de l'estimateur du maximum de vraisemblance. </li>\n",
    "        <li> Comment se servir de cette méthode pour construire un test de niveau $0.95$ testant l'hypothèse $H_0 : \\alpha= 3$ contre l'alternative $H_1\\neq 3$ </li>\n",
    "        <li> Vous chercherez à évaluer la puissance de ce test en fonction de $\\alpha$. </li>\n",
    "    </ol>\n",
    "</div>"
   ]
  },
  {
   "cell_type": "code",
   "execution_count": null,
   "id": "f06c556b",
   "metadata": {
    "vscode": {
     "languageId": "r"
    }
   },
   "outputs": [],
   "source": [
    "#A FAIRE"
   ]
  }
 ],
 "metadata": {
  "kernelspec": {
   "display_name": "R",
   "language": "R",
   "name": "ir"
  },
  "language_info": {
   "codemirror_mode": "r",
   "file_extension": ".r",
   "mimetype": "text/x-r-source",
   "name": "R",
   "pygments_lexer": "r",
   "version": "4.3.1"
  }
 },
 "nbformat": 4,
 "nbformat_minor": 5
}
